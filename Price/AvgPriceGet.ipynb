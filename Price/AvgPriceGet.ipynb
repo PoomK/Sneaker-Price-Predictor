{
 "metadata": {
  "language_info": {
   "codemirror_mode": {
    "name": "ipython",
    "version": 3
   },
   "file_extension": ".py",
   "mimetype": "text/x-python",
   "name": "python",
   "nbconvert_exporter": "python",
   "pygments_lexer": "ipython3",
   "version": "3.9.1-final"
  },
  "orig_nbformat": 2,
  "kernelspec": {
   "name": "python3",
   "display_name": "Python 3.9.1 64-bit",
   "metadata": {
    "interpreter": {
     "hash": "7e73c37d5f4bfa9abf25a238cca4babf5097bd5fa7fc30d4ef9b61fba81a8b4e"
    }
   }
  }
 },
 "nbformat": 4,
 "nbformat_minor": 2,
 "cells": [
  {
   "cell_type": "code",
   "execution_count": 1,
   "metadata": {},
   "outputs": [],
   "source": [
    "from selenium import webdriver"
   ]
  },
  {
   "cell_type": "code",
   "execution_count": 10,
   "metadata": {},
   "outputs": [],
   "source": [
    "#Path to Chrome Driver for windows\n",
    "PATH = \"C:\\Program Files (x86)\\chromedriver.exe\"\n",
    "driver = webdriver.Chrome(PATH)\n",
    "\n",
    "#Open site\n",
    "driver.get(\"https://stockx.com/sneakers\")\n",
    "\n",
    "#Click on the annoying pop-up\n",
    "driver.implicitly_wait(10)\n",
    "PopUpQuitButton = driver.find_element_by_xpath(\"//img[@src='//stockx-assets.imgix.net/AllInAsk/close (1).svg?auto=compress,format']\").click()"
   ]
  },
  {
   "cell_type": "code",
   "execution_count": 12,
   "metadata": {},
   "outputs": [],
   "source": [
    "#For loop to loop through all 40 pairs on the first page\n",
    "for i in range(1):\n",
    "    \n",
    "    #Click on the i + 1 sneaker\n",
    "    xpathstr = \"//div[@class='tile browse-tile updated'][\"+str(i+1)+\"]\"\n",
    "    SneakerSelect = driver.find_element_by_xpath(xpathstr).click()\n",
    "\n",
    "    #Click on button to view all sales of the sneaker\n",
    "    driver.find_element_by_xpath(\"//a[@data-testid='product-viewallsales']\").click()\n",
    "\n",
    "    #Loop to press load more button to load full table. It will press load more button 10 times and then it will break out of loop. If there is not up to 10 button presses, it will automatically leave the loop. This should allow a little over 100 of the sale history.\n",
    "    press_count = 0\n",
    "    while True:\n",
    "        try:\n",
    "            load_more_button = driver.find_element_by_xpath(\"//button[@class='button button-block button-white']\").click()\n",
    "            press_count += 1\n",
    "            if press_count == 10:\n",
    "                break\n",
    "        except:\n",
    "            break\n",
    "    \n",
    "    table = driver.find_element_by_xpath(\"//table[@id='480']\").text\n",
    "\n",
    "    #Return to initial page and refresh\n",
    "    driver.back()\n",
    "    driver.refresh()"
   ]
  }
 ]
}