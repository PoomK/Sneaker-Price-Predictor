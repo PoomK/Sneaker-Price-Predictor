{
 "metadata": {
  "language_info": {
   "codemirror_mode": {
    "name": "ipython",
    "version": 3
   },
   "file_extension": ".py",
   "mimetype": "text/x-python",
   "name": "python",
   "nbconvert_exporter": "python",
   "pygments_lexer": "ipython3",
   "version": "3.9.1-final"
  },
  "orig_nbformat": 2,
  "kernelspec": {
   "name": "python3",
   "display_name": "Python 3.9.1 64-bit ('SneakerPredictor': conda)",
   "metadata": {
    "interpreter": {
     "hash": "7e73c37d5f4bfa9abf25a238cca4babf5097bd5fa7fc30d4ef9b61fba81a8b4e"
    }
   }
  }
 },
 "nbformat": 4,
 "nbformat_minor": 2,
 "cells": [
  {
   "source": [
    "<h1> Data Collection </h1>"
   ],
   "cell_type": "markdown",
   "metadata": {}
  },
  {
   "source": [
    "<h2> Importing libraries, setting up drivers, opening the site </h2>"
   ],
   "cell_type": "markdown",
   "metadata": {}
  },
  {
   "cell_type": "code",
   "execution_count": 5,
   "metadata": {},
   "outputs": [],
   "source": [
    "from selenium import webdriver\n",
    "from datetime import datetime\n",
    "import csv"
   ]
  },
  {
   "cell_type": "code",
   "execution_count": 8,
   "metadata": {},
   "outputs": [
    {
     "output_type": "error",
     "ename": "NoSuchElementException",
     "evalue": "Message: no such element: Unable to locate element: {\"method\":\"xpath\",\"selector\":\"//img[@src='//stockx-assets.imgix.net/AllInAsk/close (1).svg?auto=compress,format']\"}\n  (Session info: chrome=89.0.4389.90)\n",
     "traceback": [
      "\u001b[1;31m---------------------------------------------------------------------------\u001b[0m",
      "\u001b[1;31mNoSuchElementException\u001b[0m                    Traceback (most recent call last)",
      "\u001b[1;32m<ipython-input-8-4936f257bd37>\u001b[0m in \u001b[0;36m<module>\u001b[1;34m\u001b[0m\n\u001b[0;32m      8\u001b[0m \u001b[1;31m#Click on the annoying pop-up\u001b[0m\u001b[1;33m\u001b[0m\u001b[1;33m\u001b[0m\u001b[1;33m\u001b[0m\u001b[0m\n\u001b[0;32m      9\u001b[0m \u001b[0mdriver\u001b[0m\u001b[1;33m.\u001b[0m\u001b[0mimplicitly_wait\u001b[0m\u001b[1;33m(\u001b[0m\u001b[1;36m10\u001b[0m\u001b[1;33m)\u001b[0m\u001b[1;33m\u001b[0m\u001b[1;33m\u001b[0m\u001b[0m\n\u001b[1;32m---> 10\u001b[1;33m \u001b[0mPopUpQuitButton\u001b[0m \u001b[1;33m=\u001b[0m \u001b[0mdriver\u001b[0m\u001b[1;33m.\u001b[0m\u001b[0mfind_element_by_xpath\u001b[0m\u001b[1;33m(\u001b[0m\u001b[1;34m\"//img[@src='//stockx-assets.imgix.net/AllInAsk/close (1).svg?auto=compress,format']\"\u001b[0m\u001b[1;33m)\u001b[0m\u001b[1;33m.\u001b[0m\u001b[0mclick\u001b[0m\u001b[1;33m(\u001b[0m\u001b[1;33m)\u001b[0m\u001b[1;33m\u001b[0m\u001b[1;33m\u001b[0m\u001b[0m\n\u001b[0m",
      "\u001b[1;32m~\\anaconda3\\envs\\SneakerPredictor\\lib\\site-packages\\selenium\\webdriver\\remote\\webdriver.py\u001b[0m in \u001b[0;36mfind_element_by_xpath\u001b[1;34m(self, xpath)\u001b[0m\n\u001b[0;32m    392\u001b[0m             \u001b[0melement\u001b[0m \u001b[1;33m=\u001b[0m \u001b[0mdriver\u001b[0m\u001b[1;33m.\u001b[0m\u001b[0mfind_element_by_xpath\u001b[0m\u001b[1;33m(\u001b[0m\u001b[1;34m'//div/td[1]'\u001b[0m\u001b[1;33m)\u001b[0m\u001b[1;33m\u001b[0m\u001b[1;33m\u001b[0m\u001b[0m\n\u001b[0;32m    393\u001b[0m         \"\"\"\n\u001b[1;32m--> 394\u001b[1;33m         \u001b[1;32mreturn\u001b[0m \u001b[0mself\u001b[0m\u001b[1;33m.\u001b[0m\u001b[0mfind_element\u001b[0m\u001b[1;33m(\u001b[0m\u001b[0mby\u001b[0m\u001b[1;33m=\u001b[0m\u001b[0mBy\u001b[0m\u001b[1;33m.\u001b[0m\u001b[0mXPATH\u001b[0m\u001b[1;33m,\u001b[0m \u001b[0mvalue\u001b[0m\u001b[1;33m=\u001b[0m\u001b[0mxpath\u001b[0m\u001b[1;33m)\u001b[0m\u001b[1;33m\u001b[0m\u001b[1;33m\u001b[0m\u001b[0m\n\u001b[0m\u001b[0;32m    395\u001b[0m \u001b[1;33m\u001b[0m\u001b[0m\n\u001b[0;32m    396\u001b[0m     \u001b[1;32mdef\u001b[0m \u001b[0mfind_elements_by_xpath\u001b[0m\u001b[1;33m(\u001b[0m\u001b[0mself\u001b[0m\u001b[1;33m,\u001b[0m \u001b[0mxpath\u001b[0m\u001b[1;33m)\u001b[0m\u001b[1;33m:\u001b[0m\u001b[1;33m\u001b[0m\u001b[1;33m\u001b[0m\u001b[0m\n",
      "\u001b[1;32m~\\anaconda3\\envs\\SneakerPredictor\\lib\\site-packages\\selenium\\webdriver\\remote\\webdriver.py\u001b[0m in \u001b[0;36mfind_element\u001b[1;34m(self, by, value)\u001b[0m\n\u001b[0;32m    974\u001b[0m                 \u001b[0mby\u001b[0m \u001b[1;33m=\u001b[0m \u001b[0mBy\u001b[0m\u001b[1;33m.\u001b[0m\u001b[0mCSS_SELECTOR\u001b[0m\u001b[1;33m\u001b[0m\u001b[1;33m\u001b[0m\u001b[0m\n\u001b[0;32m    975\u001b[0m                 \u001b[0mvalue\u001b[0m \u001b[1;33m=\u001b[0m \u001b[1;34m'[name=\"%s\"]'\u001b[0m \u001b[1;33m%\u001b[0m \u001b[0mvalue\u001b[0m\u001b[1;33m\u001b[0m\u001b[1;33m\u001b[0m\u001b[0m\n\u001b[1;32m--> 976\u001b[1;33m         return self.execute(Command.FIND_ELEMENT, {\n\u001b[0m\u001b[0;32m    977\u001b[0m             \u001b[1;34m'using'\u001b[0m\u001b[1;33m:\u001b[0m \u001b[0mby\u001b[0m\u001b[1;33m,\u001b[0m\u001b[1;33m\u001b[0m\u001b[1;33m\u001b[0m\u001b[0m\n\u001b[0;32m    978\u001b[0m             'value': value})['value']\n",
      "\u001b[1;32m~\\anaconda3\\envs\\SneakerPredictor\\lib\\site-packages\\selenium\\webdriver\\remote\\webdriver.py\u001b[0m in \u001b[0;36mexecute\u001b[1;34m(self, driver_command, params)\u001b[0m\n\u001b[0;32m    319\u001b[0m         \u001b[0mresponse\u001b[0m \u001b[1;33m=\u001b[0m \u001b[0mself\u001b[0m\u001b[1;33m.\u001b[0m\u001b[0mcommand_executor\u001b[0m\u001b[1;33m.\u001b[0m\u001b[0mexecute\u001b[0m\u001b[1;33m(\u001b[0m\u001b[0mdriver_command\u001b[0m\u001b[1;33m,\u001b[0m \u001b[0mparams\u001b[0m\u001b[1;33m)\u001b[0m\u001b[1;33m\u001b[0m\u001b[1;33m\u001b[0m\u001b[0m\n\u001b[0;32m    320\u001b[0m         \u001b[1;32mif\u001b[0m \u001b[0mresponse\u001b[0m\u001b[1;33m:\u001b[0m\u001b[1;33m\u001b[0m\u001b[1;33m\u001b[0m\u001b[0m\n\u001b[1;32m--> 321\u001b[1;33m             \u001b[0mself\u001b[0m\u001b[1;33m.\u001b[0m\u001b[0merror_handler\u001b[0m\u001b[1;33m.\u001b[0m\u001b[0mcheck_response\u001b[0m\u001b[1;33m(\u001b[0m\u001b[0mresponse\u001b[0m\u001b[1;33m)\u001b[0m\u001b[1;33m\u001b[0m\u001b[1;33m\u001b[0m\u001b[0m\n\u001b[0m\u001b[0;32m    322\u001b[0m             response['value'] = self._unwrap_value(\n\u001b[0;32m    323\u001b[0m                 response.get('value', None))\n",
      "\u001b[1;32m~\\anaconda3\\envs\\SneakerPredictor\\lib\\site-packages\\selenium\\webdriver\\remote\\errorhandler.py\u001b[0m in \u001b[0;36mcheck_response\u001b[1;34m(self, response)\u001b[0m\n\u001b[0;32m    240\u001b[0m                 \u001b[0malert_text\u001b[0m \u001b[1;33m=\u001b[0m \u001b[0mvalue\u001b[0m\u001b[1;33m[\u001b[0m\u001b[1;34m'alert'\u001b[0m\u001b[1;33m]\u001b[0m\u001b[1;33m.\u001b[0m\u001b[0mget\u001b[0m\u001b[1;33m(\u001b[0m\u001b[1;34m'text'\u001b[0m\u001b[1;33m)\u001b[0m\u001b[1;33m\u001b[0m\u001b[1;33m\u001b[0m\u001b[0m\n\u001b[0;32m    241\u001b[0m             \u001b[1;32mraise\u001b[0m \u001b[0mexception_class\u001b[0m\u001b[1;33m(\u001b[0m\u001b[0mmessage\u001b[0m\u001b[1;33m,\u001b[0m \u001b[0mscreen\u001b[0m\u001b[1;33m,\u001b[0m \u001b[0mstacktrace\u001b[0m\u001b[1;33m,\u001b[0m \u001b[0malert_text\u001b[0m\u001b[1;33m)\u001b[0m\u001b[1;33m\u001b[0m\u001b[1;33m\u001b[0m\u001b[0m\n\u001b[1;32m--> 242\u001b[1;33m         \u001b[1;32mraise\u001b[0m \u001b[0mexception_class\u001b[0m\u001b[1;33m(\u001b[0m\u001b[0mmessage\u001b[0m\u001b[1;33m,\u001b[0m \u001b[0mscreen\u001b[0m\u001b[1;33m,\u001b[0m \u001b[0mstacktrace\u001b[0m\u001b[1;33m)\u001b[0m\u001b[1;33m\u001b[0m\u001b[1;33m\u001b[0m\u001b[0m\n\u001b[0m\u001b[0;32m    243\u001b[0m \u001b[1;33m\u001b[0m\u001b[0m\n\u001b[0;32m    244\u001b[0m     \u001b[1;32mdef\u001b[0m \u001b[0m_value_or_default\u001b[0m\u001b[1;33m(\u001b[0m\u001b[0mself\u001b[0m\u001b[1;33m,\u001b[0m \u001b[0mobj\u001b[0m\u001b[1;33m,\u001b[0m \u001b[0mkey\u001b[0m\u001b[1;33m,\u001b[0m \u001b[0mdefault\u001b[0m\u001b[1;33m)\u001b[0m\u001b[1;33m:\u001b[0m\u001b[1;33m\u001b[0m\u001b[1;33m\u001b[0m\u001b[0m\n",
      "\u001b[1;31mNoSuchElementException\u001b[0m: Message: no such element: Unable to locate element: {\"method\":\"xpath\",\"selector\":\"//img[@src='//stockx-assets.imgix.net/AllInAsk/close (1).svg?auto=compress,format']\"}\n  (Session info: chrome=89.0.4389.90)\n"
     ]
    }
   ],
   "source": [
    "#Path to Chrome Driver for windows\n",
    "PATH = \"C:\\Program Files (x86)\\chromedriver.exe\"\n",
    "driver = webdriver.Chrome(PATH)\n",
    "\n",
    "#Open site\n",
    "driver.get(\"https://stockx.com/sneakers\")\n",
    "\n",
    "#Click on the annoying pop-up\n",
    "driver.implicitly_wait(10)\n",
    "PopUpQuitButton = driver.find_element_by_xpath(\"//button[@class='chakra-modal__close-btn css-gx5d6b']\").click()"
   ]
  },
  {
   "source": [
    "<h2> Functions </h2>"
   ],
   "cell_type": "markdown",
   "metadata": {}
  },
  {
   "source": [
    "<h3> Functions for avg price collection </h3>"
   ],
   "cell_type": "markdown",
   "metadata": {}
  },
  {
   "cell_type": "code",
   "execution_count": 3,
   "metadata": {},
   "outputs": [],
   "source": [
    "#Function that takes in date array and price array and returns the average price for the sale history of previous months\n",
    "# def get_avg_new_price(date_arr, price_arr):\n",
    "#     #Array for new prices\n",
    "#     new_price_arr = []\n",
    "\n",
    "#     #Find timestamp for last 6 month\n",
    "#     now = datetime.now().timestamp()\n",
    "#     month_seconds = 2628288\n",
    "#     last_month_ts = now - (month_seconds*6)\n",
    "\n",
    "#     #Filter out and append new prices to the array\n",
    "#     for i in range(len(date_arr)):\n",
    "#         if date_arr[i] > last_month_ts:\n",
    "#             new_price_arr.append(price_arr[i])\n",
    "\n",
    "#             print(new_price_arr)\n",
    "\n",
    "#     #Averaging all values in new_price_arr\n",
    "#     average_price = sum(new_price_arr)/len(new_price_arr)\n",
    "#     return round(average_price,2)\n",
    "\n",
    "def get_price():\n",
    "    with open(\"Tableinfo.txt\",\"r\") as f:\n",
    "        lines =f.readlines()\n",
    "        for line in lines:\n",
    "            if \"$\" in line:\n",
    "                LineList = line.split(\"$\")\n",
    "                price = LineList[1].strip()\n",
    "\n",
    "def extract_date(dateString):\n",
    "    #Remove \"Sunday,\"\n",
    "    dateString = \",\".join(dateString.split(\",\")[1:]).strip()\n",
    "    datetimeObj = datetime.strptime(dateString, \"%B %d, %Y %I:%M %p\")\n",
    "    datetime_timestamp = datetimeObj.timestamp()\n",
    "    return datetime_timestamp"
   ]
  },
  {
   "source": [
    "<h3> Functions for getting numpy array </h3>"
   ],
   "cell_type": "markdown",
   "metadata": {}
  },
  {
   "cell_type": "code",
   "execution_count": 5,
   "metadata": {},
   "outputs": [],
   "source": [
    "#Function that takes in special name array of sneaker and returns numpy array\n",
    "def GetNumpyArray(SpecificNameArr):\n",
    "\n",
    "    #Returns an array of sneaker names from numpysneakernames.txt in specific order\n",
    "    SneakerNamesArr = []\n",
    "\n",
    "    with open(\"NumpySneakerNames.txt\", \"r\") as f:\n",
    "        lines = f.readlines()\n",
    "        for line in lines:\n",
    "            SneakerName = line.strip(\"\\n\")\n",
    "            SneakerNamesArr.append(SneakerName)\n",
    "\n",
    "    #Sneaker name arr for testing\n",
    "    TrueCount = 0 #Counter\n",
    "    NumpyArr = [] #Numpy array for sneaker\n",
    "\n",
    "    #For loop to check if the value is true in sneaker name arr, returns 1 if true and 0 if false\n",
    "    for i in range(len(SneakerNamesArr)):\n",
    "        if SpecificNameArr[TrueCount] == SneakerNamesArr[i]:\n",
    "            NumpyArr.append(1)\n",
    "            if TrueCount != len(SpecificNameArr)-1:\n",
    "                TrueCount = TrueCount + 1\n",
    "        else:\n",
    "            NumpyArr.append(0)\n",
    "\n",
    "    return NumpyArr\n",
    "\n",
    "#Returns an array of special sneaker names\n",
    "SpecialNamesArr = []\n",
    "\n",
    "with open(\"SneakerSpecialNames.txt\", \"r\") as f:\n",
    "    lines = f.readlines()\n",
    "    for line in lines:\n",
    "        SpecialName = line.strip(\"\\n\")\n",
    "        SpecialNamesArr.append(SpecialName)\n",
    "\n",
    "#Functions to split the sneaker name into special name arrays\n",
    "def strip(s):\n",
    "    return s.strip()\n",
    "\n",
    "def splitSpecial(sneakerName):\n",
    "    #iterate through specialNames\n",
    "    for s in SpecialNamesArr:\n",
    "        #check if special name is in sneaker name\n",
    "        if s in sneakerName:\n",
    "            nameArray = sneakerName.split(s)\n",
    "            nameArray.insert(1, s)\n",
    "            nameArray = list(map(strip, nameArray))\n",
    "\n",
    "            #Check for space in 3rd element and split if there is space\n",
    "            if \"\" in nameArray[2]:\n",
    "                element2 = nameArray[2]\n",
    "                del nameArray[2]\n",
    "                newArr2 = element2.split()\n",
    "                for i in range(len(newArr2)):\n",
    "                    position2 = 2+i\n",
    "                    value2 = newArr2[i]\n",
    "                    nameArray.insert(position2,value2)\n",
    "\n",
    "            #Check for space in 1st element and split if there is space\n",
    "            if \"\" in nameArray[0]:\n",
    "                element1 = nameArray[0]\n",
    "                del nameArray[0]\n",
    "                newArr1 = element1.split()\n",
    "                for i in range(len(newArr1)):\n",
    "                    position1 = i\n",
    "                    value1 = newArr1[i]\n",
    "                    nameArray.insert(position1,value1)\n",
    "\n",
    "            return nameArray\n",
    "    return sneakerName"
   ]
  },
  {
   "source": [
    "<h2> Code to run task of getting data and processing data to store </h2>"
   ],
   "cell_type": "markdown",
   "metadata": {}
  },
  {
   "cell_type": "code",
   "execution_count": 6,
   "metadata": {},
   "outputs": [
    {
     "output_type": "stream",
     "name": "stdout",
     "text": [
      "[3072, 3072, 3000, 2562, 2307, 2307, 2052, 2000, 2000, 1950, 1919, 1900, 1899, 1890, 1875, 1800, 1800, 1800, 1797, 1755, 1750, 1750, 1750, 1750, 1745, 1745, 1739, 1725, 1721, 1674, 1650, 1650, 1625, 1600, 1600, 1600, 1600, 1600, 1600, 1600, 1600, 1593, 1572, 1560, 1553, 1550, 1542, 1542, 1542, 1542, 1542, 1542, 1541, 1537, 1537, 1537, 1525, 1525, 1525, 1515, 1505, 1500, 1500, 1500, 1500, 1500, 1500, 1500, 1500, 1500, 1500, 1500, 1500, 1500, 1500, 1500, 1500, 1500, 1500, 1500, 1500, 1500, 1500, 1500, 1500, 1495, 1495, 1491, 1490, 1489, 1480, 1470, 1470, 1470, 1470, 1466, 1466, 1460, 1450, 1450]\n",
      "1668\n",
      "[199, 170, 190, 185, 195, 187, 189, 184, 184, 184]\n",
      "187\n",
      "[800, 800, 795, 760, 625, 526, 526, 514, 505, 504, 501, 500, 500, 491, 485, 482, 480, 478, 471, 467, 466, 461, 460, 458, 458, 451, 451, 450, 450, 450, 450, 450, 450, 450, 450, 450, 447, 445, 445, 441, 440, 440, 440, 440, 440, 440, 440, 439, 439, 439, 439, 437, 435, 435, 435, 434, 433, 431, 431, 430, 430, 430, 430, 430, 429, 429, 429, 429, 429, 428, 428, 428, 427, 426, 426, 425, 425, 425, 425, 425, 424, 424, 424, 424, 424, 423, 423, 423, 422, 422, 422, 422, 420, 420, 420, 420, 420, 420, 420, 420]\n",
      "460\n",
      "[556, 630, 439, 478, 556, 509, 468, 470, 474, 474]\n",
      "505\n",
      "[660, 655, 576, 560, 549, 530, 500, 500, 474, 460, 460, 460, 451, 450, 450, 450, 450, 449, 443, 442, 440, 433, 415, 411, 405, 404, 402, 400, 400, 400, 399, 399, 398, 395, 391, 390, 388, 387, 380, 380, 376, 375, 373, 370, 369, 369, 369, 365, 365, 362, 362, 360, 359, 356, 355, 355, 351, 350, 350, 350, 350, 350, 350, 350, 350, 349, 348, 348, 347, 346, 346, 346, 345, 345, 344, 343, 342, 342, 342, 341, 341, 340, 340, 339, 339, 339, 338, 338, 337, 337, 337, 337, 337, 335, 335, 335, 335, 335, 334, 333]\n",
      "389\n"
     ]
    },
    {
     "output_type": "error",
     "ename": "NoSuchElementException",
     "evalue": "Message: no such element: Unable to locate element: {\"method\":\"xpath\",\"selector\":\"//table[@id='480']\"}\n  (Session info: chrome=88.0.4324.190)\n",
     "traceback": [
      "\u001b[1;31m---------------------------------------------------------------------------\u001b[0m",
      "\u001b[1;31mNoSuchElementException\u001b[0m                    Traceback (most recent call last)",
      "\u001b[1;32m<ipython-input-6-21d74d9b94f3>\u001b[0m in \u001b[0;36m<module>\u001b[1;34m\u001b[0m\n\u001b[0;32m     21\u001b[0m \u001b[1;33m\u001b[0m\u001b[0m\n\u001b[0;32m     22\u001b[0m     \u001b[1;31m#Find element for the sale history table and\u001b[0m\u001b[1;33m\u001b[0m\u001b[1;33m\u001b[0m\u001b[1;33m\u001b[0m\u001b[0m\n\u001b[1;32m---> 23\u001b[1;33m     \u001b[0mtable\u001b[0m \u001b[1;33m=\u001b[0m \u001b[0mdriver\u001b[0m\u001b[1;33m.\u001b[0m\u001b[0mfind_element_by_xpath\u001b[0m\u001b[1;33m(\u001b[0m\u001b[1;34m\"//table[@id='480']\"\u001b[0m\u001b[1;33m)\u001b[0m\u001b[1;33m.\u001b[0m\u001b[0mtext\u001b[0m\u001b[1;33m\u001b[0m\u001b[1;33m\u001b[0m\u001b[0m\n\u001b[0m\u001b[0;32m     24\u001b[0m \u001b[1;33m\u001b[0m\u001b[0m\n\u001b[0;32m     25\u001b[0m     \u001b[1;31m#Clears table info file to make sure it is empty\u001b[0m\u001b[1;33m\u001b[0m\u001b[1;33m\u001b[0m\u001b[1;33m\u001b[0m\u001b[0m\n",
      "\u001b[1;32m~\\anaconda3\\envs\\SneakerPredictor\\lib\\site-packages\\selenium\\webdriver\\remote\\webdriver.py\u001b[0m in \u001b[0;36mfind_element_by_xpath\u001b[1;34m(self, xpath)\u001b[0m\n\u001b[0;32m    392\u001b[0m             \u001b[0melement\u001b[0m \u001b[1;33m=\u001b[0m \u001b[0mdriver\u001b[0m\u001b[1;33m.\u001b[0m\u001b[0mfind_element_by_xpath\u001b[0m\u001b[1;33m(\u001b[0m\u001b[1;34m'//div/td[1]'\u001b[0m\u001b[1;33m)\u001b[0m\u001b[1;33m\u001b[0m\u001b[1;33m\u001b[0m\u001b[0m\n\u001b[0;32m    393\u001b[0m         \"\"\"\n\u001b[1;32m--> 394\u001b[1;33m         \u001b[1;32mreturn\u001b[0m \u001b[0mself\u001b[0m\u001b[1;33m.\u001b[0m\u001b[0mfind_element\u001b[0m\u001b[1;33m(\u001b[0m\u001b[0mby\u001b[0m\u001b[1;33m=\u001b[0m\u001b[0mBy\u001b[0m\u001b[1;33m.\u001b[0m\u001b[0mXPATH\u001b[0m\u001b[1;33m,\u001b[0m \u001b[0mvalue\u001b[0m\u001b[1;33m=\u001b[0m\u001b[0mxpath\u001b[0m\u001b[1;33m)\u001b[0m\u001b[1;33m\u001b[0m\u001b[1;33m\u001b[0m\u001b[0m\n\u001b[0m\u001b[0;32m    395\u001b[0m \u001b[1;33m\u001b[0m\u001b[0m\n\u001b[0;32m    396\u001b[0m     \u001b[1;32mdef\u001b[0m \u001b[0mfind_elements_by_xpath\u001b[0m\u001b[1;33m(\u001b[0m\u001b[0mself\u001b[0m\u001b[1;33m,\u001b[0m \u001b[0mxpath\u001b[0m\u001b[1;33m)\u001b[0m\u001b[1;33m:\u001b[0m\u001b[1;33m\u001b[0m\u001b[1;33m\u001b[0m\u001b[0m\n",
      "\u001b[1;32m~\\anaconda3\\envs\\SneakerPredictor\\lib\\site-packages\\selenium\\webdriver\\remote\\webdriver.py\u001b[0m in \u001b[0;36mfind_element\u001b[1;34m(self, by, value)\u001b[0m\n\u001b[0;32m    974\u001b[0m                 \u001b[0mby\u001b[0m \u001b[1;33m=\u001b[0m \u001b[0mBy\u001b[0m\u001b[1;33m.\u001b[0m\u001b[0mCSS_SELECTOR\u001b[0m\u001b[1;33m\u001b[0m\u001b[1;33m\u001b[0m\u001b[0m\n\u001b[0;32m    975\u001b[0m                 \u001b[0mvalue\u001b[0m \u001b[1;33m=\u001b[0m \u001b[1;34m'[name=\"%s\"]'\u001b[0m \u001b[1;33m%\u001b[0m \u001b[0mvalue\u001b[0m\u001b[1;33m\u001b[0m\u001b[1;33m\u001b[0m\u001b[0m\n\u001b[1;32m--> 976\u001b[1;33m         return self.execute(Command.FIND_ELEMENT, {\n\u001b[0m\u001b[0;32m    977\u001b[0m             \u001b[1;34m'using'\u001b[0m\u001b[1;33m:\u001b[0m \u001b[0mby\u001b[0m\u001b[1;33m,\u001b[0m\u001b[1;33m\u001b[0m\u001b[1;33m\u001b[0m\u001b[0m\n\u001b[0;32m    978\u001b[0m             'value': value})['value']\n",
      "\u001b[1;32m~\\anaconda3\\envs\\SneakerPredictor\\lib\\site-packages\\selenium\\webdriver\\remote\\webdriver.py\u001b[0m in \u001b[0;36mexecute\u001b[1;34m(self, driver_command, params)\u001b[0m\n\u001b[0;32m    319\u001b[0m         \u001b[0mresponse\u001b[0m \u001b[1;33m=\u001b[0m \u001b[0mself\u001b[0m\u001b[1;33m.\u001b[0m\u001b[0mcommand_executor\u001b[0m\u001b[1;33m.\u001b[0m\u001b[0mexecute\u001b[0m\u001b[1;33m(\u001b[0m\u001b[0mdriver_command\u001b[0m\u001b[1;33m,\u001b[0m \u001b[0mparams\u001b[0m\u001b[1;33m)\u001b[0m\u001b[1;33m\u001b[0m\u001b[1;33m\u001b[0m\u001b[0m\n\u001b[0;32m    320\u001b[0m         \u001b[1;32mif\u001b[0m \u001b[0mresponse\u001b[0m\u001b[1;33m:\u001b[0m\u001b[1;33m\u001b[0m\u001b[1;33m\u001b[0m\u001b[0m\n\u001b[1;32m--> 321\u001b[1;33m             \u001b[0mself\u001b[0m\u001b[1;33m.\u001b[0m\u001b[0merror_handler\u001b[0m\u001b[1;33m.\u001b[0m\u001b[0mcheck_response\u001b[0m\u001b[1;33m(\u001b[0m\u001b[0mresponse\u001b[0m\u001b[1;33m)\u001b[0m\u001b[1;33m\u001b[0m\u001b[1;33m\u001b[0m\u001b[0m\n\u001b[0m\u001b[0;32m    322\u001b[0m             response['value'] = self._unwrap_value(\n\u001b[0;32m    323\u001b[0m                 response.get('value', None))\n",
      "\u001b[1;32m~\\anaconda3\\envs\\SneakerPredictor\\lib\\site-packages\\selenium\\webdriver\\remote\\errorhandler.py\u001b[0m in \u001b[0;36mcheck_response\u001b[1;34m(self, response)\u001b[0m\n\u001b[0;32m    240\u001b[0m                 \u001b[0malert_text\u001b[0m \u001b[1;33m=\u001b[0m \u001b[0mvalue\u001b[0m\u001b[1;33m[\u001b[0m\u001b[1;34m'alert'\u001b[0m\u001b[1;33m]\u001b[0m\u001b[1;33m.\u001b[0m\u001b[0mget\u001b[0m\u001b[1;33m(\u001b[0m\u001b[1;34m'text'\u001b[0m\u001b[1;33m)\u001b[0m\u001b[1;33m\u001b[0m\u001b[1;33m\u001b[0m\u001b[0m\n\u001b[0;32m    241\u001b[0m             \u001b[1;32mraise\u001b[0m \u001b[0mexception_class\u001b[0m\u001b[1;33m(\u001b[0m\u001b[0mmessage\u001b[0m\u001b[1;33m,\u001b[0m \u001b[0mscreen\u001b[0m\u001b[1;33m,\u001b[0m \u001b[0mstacktrace\u001b[0m\u001b[1;33m,\u001b[0m \u001b[0malert_text\u001b[0m\u001b[1;33m)\u001b[0m\u001b[1;33m\u001b[0m\u001b[1;33m\u001b[0m\u001b[0m\n\u001b[1;32m--> 242\u001b[1;33m         \u001b[1;32mraise\u001b[0m \u001b[0mexception_class\u001b[0m\u001b[1;33m(\u001b[0m\u001b[0mmessage\u001b[0m\u001b[1;33m,\u001b[0m \u001b[0mscreen\u001b[0m\u001b[1;33m,\u001b[0m \u001b[0mstacktrace\u001b[0m\u001b[1;33m)\u001b[0m\u001b[1;33m\u001b[0m\u001b[1;33m\u001b[0m\u001b[0m\n\u001b[0m\u001b[0;32m    243\u001b[0m \u001b[1;33m\u001b[0m\u001b[0m\n\u001b[0;32m    244\u001b[0m     \u001b[1;32mdef\u001b[0m \u001b[0m_value_or_default\u001b[0m\u001b[1;33m(\u001b[0m\u001b[0mself\u001b[0m\u001b[1;33m,\u001b[0m \u001b[0mobj\u001b[0m\u001b[1;33m,\u001b[0m \u001b[0mkey\u001b[0m\u001b[1;33m,\u001b[0m \u001b[0mdefault\u001b[0m\u001b[1;33m)\u001b[0m\u001b[1;33m:\u001b[0m\u001b[1;33m\u001b[0m\u001b[1;33m\u001b[0m\u001b[0m\n",
      "\u001b[1;31mNoSuchElementException\u001b[0m: Message: no such element: Unable to locate element: {\"method\":\"xpath\",\"selector\":\"//table[@id='480']\"}\n  (Session info: chrome=88.0.4324.190)\n"
     ]
    }
   ],
   "source": [
    "#For loop to loop through all 40 pairs on the first page\n",
    "for i in range(10):\n",
    "    \n",
    "    #Click on the i + 1 sneaker\n",
    "    xpathstr = \"//div[@class='tile browse-tile'][\"+str(i+1)+\"]\"\n",
    "    SneakerSelect = driver.find_element_by_xpath(xpathstr).click()\n",
    "\n",
    "    #Click on button to view all sales of the sneaker\n",
    "    driver.find_element_by_xpath(\"//a[@data-testid='product-viewallsales']\").click()\n",
    "\n",
    "    #Loop to press load more button to load full table. It will press load more button 10 times and then it will break out of loop. If there is not up to 10 button presses, it will automatically leave the loop. This should allow a little over 100 of the sale history.\n",
    "    # press_count = 0\n",
    "    # while True:\n",
    "    #     try:\n",
    "    #         load_more_button = driver.find_element_by_xpath(\"//button[contains(text(),'Load more')]\")\n",
    "    #         press_count += 1\n",
    "    #         if press_count == 10:\n",
    "    #             break\n",
    "    #     except:\n",
    "    #         break\n",
    "    \n",
    "    #Find element for the sale history table and \n",
    "    table = driver.find_element_by_xpath(\"//table[@id='480']\").text\n",
    "\n",
    "    #Clears table info file to make sure it is empty\n",
    "    with open(\"TableTempinfo.txt\", \"r+\") as f:\n",
    "        f.truncate(0)\n",
    "\n",
    "    #Open table file and overwrite the file with the new data\n",
    "    with open (\"TableTempinfo.txt\", \"w\") as f:\n",
    "        f.write(table)\n",
    "\n",
    "#========== Getting avg price and storing to csv file ==========#\n",
    "\n",
    "    #Extract price and date and append to arrays\n",
    "    price_arr = []\n",
    "    date_arr = []\n",
    "\n",
    "    #Extract price and date from TempTableinfo.txt file\n",
    "    with open(\"TableTempinfo.txt\",\"r\") as f:\n",
    "        lines =f.readlines()\n",
    "        \n",
    "        for line in lines:\n",
    "            \n",
    "            if \"$\" in line:\n",
    "                LineList = line.split(\"$\")\n",
    "\n",
    "                #Get price and store it into an array of integers\n",
    "                price = int(LineList[1].replace(',','').strip())\n",
    "                price_arr.append(price)\n",
    "\n",
    "                #Split first half of line to get the date and the size\n",
    "                date_and_size = LineList[0]\n",
    "                date_size_split_list = date_and_size.split(\"EST\")\n",
    "\n",
    "                #Format date into timestamp and append to array\n",
    "                date_string = date_size_split_list[0]\n",
    "                formatted_date = extract_date(date_string)\n",
    "                date_arr.append(formatted_date)\n",
    "\n",
    "    #Finding average for sales in previous month\n",
    "    # avg_price = get_avg_new_price(date_arr, price_arr)\n",
    "    # print(avg_price)\n",
    "\n",
    "    print(price_arr)\n",
    "\n",
    "    #Find average price for previous 10 sales\n",
    "    avg_price = (sum(price_arr))/len(price_arr)\n",
    "    avg_price = round(avg_price)\n",
    "\n",
    "    print(avg_price)\n",
    "\n",
    "    with open(\"AveragePriceData.txt\",\"a\") as f:\n",
    "        f.write(str(avg_price)+\"\\n\")\n",
    "\n",
    "    #Get product name and display message of the sneaker name and the average price\n",
    "    # product_name = driver.find_element_by_xpath(\"//h1[@data-testid='product-name']\").text\n",
    "    # print(\"Average price for \" + str(product_name) + \" is $\" + str(avg_price))\n",
    "\n",
    "    #Clear arrays and reset all counters, ready for the next pair\n",
    "    price_arr.clear()\n",
    "    date_arr.clear()\n",
    "\n",
    "#========== Getting numpy array for sneaker name ==========#\n",
    "\n",
    "    SneakerName = driver.find_element_by_xpath(\"//h1[@data-testid='product-name']\").text\n",
    "\n",
    "    SpecialNameResultArr = splitSpecial(SneakerName)\n",
    "\n",
    "    NumpyResultArray = GetNumpyArray(SpecialNameResultArr)\n",
    "\n",
    "    with open('CSVNumpyArray.csv', 'a') as csvfile:\n",
    "        numpywriter = csv.writer(csvfile, lineterminator = '\\r')\n",
    "        numpywriter.writerow(NumpyResultArray)\n",
    "\n",
    "    #Return to initial page and refresh\n",
    "    driver.back()\n",
    "    driver.refresh()"
   ]
  },
  {
   "cell_type": "code",
   "execution_count": 1,
   "metadata": {},
   "outputs": [],
   "source": [
    "# from browsermobproxy import Server\n",
    "# from selenium import webdriver\n",
    "\n",
    "# server = Server(\"C:\\\\Users\\\\tripl\\\\Downloads\\\\browsermob-proxy-2.1.4-bin\\\\browsermob-proxy-2.1.4\\\\bin\\\\browsermob-proxy.bat\")\n",
    "# server.start()\n",
    "# proxy = server.create_proxy()\n",
    "\n",
    "# # Configure the browser proxy in chrome options\n",
    "# chrome_options = webdriver.ChromeOptions()\n",
    "# chrome_options.add_argument(\"--proxy-server={0}\".format(proxy.proxy))\n",
    "# browser = webdriver.Chrome(chrome_options = chrome_options)\n",
    "\n",
    "# #tag the har(network logs) with a name\n",
    "# proxy.new_har(\"google\")\n",
    "\n",
    "# browser.get(\"https://stockx.com/air-jordan-4-retro-taupe-haze\")"
   ]
  },
  {
   "cell_type": "code",
   "execution_count": null,
   "metadata": {},
   "outputs": [],
   "source": []
  }
 ]
}