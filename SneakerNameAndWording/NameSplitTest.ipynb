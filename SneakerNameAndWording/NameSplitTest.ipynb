{
 "metadata": {
  "language_info": {
   "codemirror_mode": {
    "name": "ipython",
    "version": 3
   },
   "file_extension": ".py",
   "mimetype": "text/x-python",
   "name": "python",
   "nbconvert_exporter": "python",
   "pygments_lexer": "ipython3",
   "version": "3.8.5-final"
  },
  "orig_nbformat": 2,
  "kernelspec": {
   "name": "python3",
   "display_name": "Python 3",
   "language": "python"
  }
 },
 "nbformat": 4,
 "nbformat_minor": 2,
 "cells": [
  {
   "cell_type": "code",
   "execution_count": 20,
   "metadata": {},
   "outputs": [],
   "source": [
    "specialNames = [\"Yeezy Boost 350 V2\", \"Jordan 1 Retro\"]\n",
    "sneakerName = \"adidas Yeezy Boost 350 V2 Black Red (2017/2020\""
   ]
  },
  {
   "cell_type": "code",
   "execution_count": 26,
   "metadata": {},
   "outputs": [],
   "source": [
    "def strip(s):\n",
    "    return s.strip()\n",
    "\n",
    "def splitSpecial(sneakerName):\n",
    "    #iterate through specialNames\n",
    "    for s in specialNames:\n",
    "        #check if special name is in sneaker name\n",
    "        if s in sneakerName:\n",
    "            nameArray = sneakerName.split(s)\n",
    "            nameArray.insert(1, s)\n",
    "            nameArray = list(map(strip, nameArray))\n",
    "            return nameArray\n",
    "    return sneakerName"
   ]
  },
  {
   "cell_type": "code",
   "execution_count": 27,
   "metadata": {},
   "outputs": [
    {
     "output_type": "stream",
     "name": "stdout",
     "text": [
      "['adidas', 'Yeezy Boost 350 V2', 'Black Red (2017/2020']\n"
     ]
    }
   ],
   "source": [
    "a = splitSpecial(sneakerName)\n",
    "print(a)"
   ]
  },
  {
   "cell_type": "code",
   "execution_count": 40,
   "metadata": {},
   "outputs": [
    {
     "output_type": "stream",
     "name": "stdout",
     "text": [
      "['Black', 'Red', '(2017/2020)']\n['adidas', 'Yeezy Boost 350 V2', 'Black']\n['adidas', 'Yeezy Boost 350 V2', 'Black', 'Red']\n['adidas', 'Yeezy Boost 350 V2', 'Black', 'Red', '(2017/2020)']\n"
     ]
    }
   ],
   "source": [
    "arr = [\"adidas\", \"Yeezy Boost 350 V2\", \"Black Red (2017/2020)\"]\n",
    "if \" \" in arr[2]:\n",
    "    element = arr[2]\n",
    "    del arr[2]\n",
    "    newArr = element.split()\n",
    "    print(newArr)\n",
    "    for i in range(len(newArr)):\n",
    "        position = 2+i\n",
    "        value = newArr[i]\n",
    "        arr.insert(position,value)\n",
    "        print(arr)\n"
   ]
  },
  {
   "cell_type": "code",
   "execution_count": null,
   "metadata": {},
   "outputs": [],
   "source": []
  }
 ]
}