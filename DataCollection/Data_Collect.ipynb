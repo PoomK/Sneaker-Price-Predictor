{
 "metadata": {
  "language_info": {
   "codemirror_mode": {
    "name": "ipython",
    "version": 3
   },
   "file_extension": ".py",
   "mimetype": "text/x-python",
   "name": "python",
   "nbconvert_exporter": "python",
   "pygments_lexer": "ipython3",
   "version": "3.9.1-final"
  },
  "orig_nbformat": 2,
  "kernelspec": {
   "name": "python3",
   "display_name": "Python 3.9.1 64-bit ('SneakerPredictor': conda)",
   "metadata": {
    "interpreter": {
     "hash": "7e73c37d5f4bfa9abf25a238cca4babf5097bd5fa7fc30d4ef9b61fba81a8b4e"
    }
   }
  }
 },
 "nbformat": 4,
 "nbformat_minor": 2,
 "cells": [
  {
   "source": [
    "<h1> Data Collection </h1>"
   ],
   "cell_type": "markdown",
   "metadata": {}
  },
  {
   "source": [
    "<h2> Importing libraries, setting up drivers, opening the site </h2>"
   ],
   "cell_type": "markdown",
   "metadata": {}
  },
  {
   "cell_type": "code",
   "execution_count": null,
   "metadata": {},
   "outputs": [],
   "source": [
    "from selenium import webdriver\n",
    "from datetime import datetime\n",
    "import csv"
   ]
  },
  {
   "cell_type": "code",
   "execution_count": null,
   "metadata": {},
   "outputs": [],
   "source": [
    "#Path to Chrome Driver for windows\n",
    "PATH = \"C:\\Program Files (x86)\\chromedriver.exe\"\n",
    "driver = webdriver.Chrome(PATH)\n",
    "\n",
    "#Open site\n",
    "driver.get(\"https://stockx.com/sneakers\")\n",
    "\n",
    "#Click on the annoying pop-up\n",
    "driver.implicitly_wait(10)\n",
    "PopUpQuitButton = driver.find_element_by_xpath(\"//img[@src='//stockx-assets.imgix.net/AllInAsk/close (1).svg?auto=compress,format']\").click()"
   ]
  },
  {
   "source": [
    "<h2> Functions </h2>"
   ],
   "cell_type": "markdown",
   "metadata": {}
  },
  {
   "source": [
    "<h3> Functions for avg price collection </h3>"
   ],
   "cell_type": "markdown",
   "metadata": {}
  },
  {
   "cell_type": "code",
   "execution_count": null,
   "metadata": {},
   "outputs": [],
   "source": [
    "#Function that takes in date array and price array and returns the average price for the sale history of previous months\n",
    "def get_avg_new_price(date_arr, price_arr):\n",
    "    #Array for new prices\n",
    "    new_price_arr = []\n",
    "\n",
    "    #Find timestamp for last 2 month\n",
    "    now = datetime.now().timestamp()\n",
    "    month_seconds = 2628288\n",
    "    last_month_ts = now - (month_seconds*2)\n",
    "\n",
    "    #Filter out and append new prices to the array\n",
    "    for i in range(len(date_arr)):\n",
    "        if date_arr[i] > last_month_ts:\n",
    "            new_price_arr.append(price_arr[i])\n",
    "\n",
    "    #Averaging all values in new_price_arr\n",
    "    average_price = sum(new_price_arr)/len(new_price_arr)\n",
    "    return round(average_price,2)\n",
    "\n",
    "def get_price():\n",
    "    with open(\"Tableinfo.txt\",\"r\") as f:\n",
    "        lines =f.readlines()\n",
    "        for line in lines:\n",
    "            if \"$\" in line:\n",
    "                LineList = line.split(\"$\")\n",
    "                price = LineList[1].strip()\n",
    "\n",
    "def extract_date(dateString):\n",
    "    #Remove \"Sunday,\"\n",
    "    dateString = \",\".join(dateString.split(\",\")[1:]).strip()\n",
    "    datetimeObj = datetime.strptime(dateString, \"%B %d, %Y %I:%M %p\")\n",
    "    datetime_timestamp = datetimeObj.timestamp()\n",
    "    return datetime_timestamp"
   ]
  },
  {
   "source": [
    "<h3> Functions for getting numpy array </h3>"
   ],
   "cell_type": "markdown",
   "metadata": {}
  },
  {
   "cell_type": "code",
   "execution_count": 1,
   "metadata": {},
   "outputs": [],
   "source": [
    "#Function that takes in special name array of sneaker and returns numpy array\n",
    "def GetNumpyArray(SpecificNameArr):\n",
    "\n",
    "    #Returns an array of sneaker names from numpysneakernames.txt in specific order\n",
    "    SneakerNamesArr = []\n",
    "\n",
    "    with open(\"NumpySneakerNames.txt\", \"r\") as f:\n",
    "        lines = f.readlines()\n",
    "        for line in lines:\n",
    "            SneakerName = line.strip(\"\\n\")\n",
    "            SneakerNamesArr.append(SneakerName)\n",
    "\n",
    "    #Sneaker name arr for testing\n",
    "    TrueCount = 0 #Counter\n",
    "    NumpyArr = [] #Numpy array for sneaker\n",
    "\n",
    "    #For loop to check if the value is true in sneaker name arr, returns 1 if true and 0 if false\n",
    "    for i in range(len(SneakerNamesArr)):\n",
    "        if SpecificNameArr[TrueCount] == SneakerNamesArr[i]:\n",
    "            NumpyArr.append(1)\n",
    "            if TrueCount != len(SpecificNameArr)-1:\n",
    "                TrueCount = TrueCount + 1\n",
    "        else:\n",
    "            NumpyArr.append(0)\n",
    "\n",
    "    return NumpyArr\n",
    "\n",
    "#Functions to split the sneaker name into special name arrays\n",
    "def strip(s):\n",
    "    return s.strip()\n",
    "\n",
    "def splitSpecial(sneakerName):\n",
    "    #iterate through specialNames\n",
    "    for s in SpecialNamesArr:\n",
    "        #check if special name is in sneaker name\n",
    "        if s in sneakerName:\n",
    "            nameArray = sneakerName.split(s)\n",
    "            nameArray.insert(1, s)\n",
    "            nameArray = list(map(strip, nameArray))\n",
    "\n",
    "            #Check for space in 3rd element and split if there is space\n",
    "            if \"\" in nameArray[2]:\n",
    "                element2 = nameArray[2]\n",
    "                del nameArray[2]\n",
    "                newArr2 = element2.split()\n",
    "                for i in range(len(newArr2)):\n",
    "                    position2 = 2+i\n",
    "                    value2 = newArr2[i]\n",
    "                    nameArray.insert(position2,value2)\n",
    "\n",
    "            #Check for space in 1st element and split if there is space\n",
    "            if \"\" in nameArray[0]:\n",
    "                element1 = nameArray[0]\n",
    "                del nameArray[0]\n",
    "                newArr1 = element1.split()\n",
    "                for i in range(len(newArr1)):\n",
    "                    position1 = i\n",
    "                    value1 = newArr1[i]\n",
    "                    nameArray.insert(position1,value1)\n",
    "\n",
    "            return nameArray\n",
    "    return sneakerName"
   ]
  },
  {
   "source": [
    "<h2> Code to run task of getting data and processing data to store </h2>"
   ],
   "cell_type": "markdown",
   "metadata": {}
  },
  {
   "cell_type": "code",
   "execution_count": null,
   "metadata": {},
   "outputs": [],
   "source": [
    "#For loop to loop through all 40 pairs on the first page\n",
    "for i in range(1):\n",
    "    \n",
    "    #Click on the i + 1 sneaker\n",
    "    xpathstr = \"//div[@class='tile browse-tile'][\"+str(i+1)+\"]\"\n",
    "    SneakerSelect = driver.find_element_by_xpath(xpathstr).click()\n",
    "\n",
    "    #Click on button to view all sales of the sneaker\n",
    "    driver.find_element_by_xpath(\"//a[@data-testid='product-viewallsales']\").click()\n",
    "\n",
    "    #Loop to press load more button to load full table. It will press load more button 10 times and then it will break out of loop. If there is not up to 10 button presses, it will automatically leave the loop. This should allow a little over 100 of the sale history.\n",
    "    press_count = 0\n",
    "    while True:\n",
    "        try:\n",
    "            load_more_button = driver.find_element_by_xpath(\"//button[@class='button button-block button-white']\").click()\n",
    "            press_count += 1\n",
    "            if press_count == 10:\n",
    "                break\n",
    "        except:\n",
    "            break\n",
    "    \n",
    "    #Find element for the sale history table and \n",
    "    table = driver.find_element_by_xpath(\"//table[@id='480']\").text\n",
    "\n",
    "    #Clears table info file to make sure it is empty\n",
    "    with open(\"TableTempinfo.txt\", \"r+\") as f:\n",
    "        f.truncate(0)\n",
    "\n",
    "    #Open table file and overwrite the file with the new data\n",
    "    with open (\"TableTempinfo.txt\", \"w\") as f:\n",
    "        f.write(table)\n",
    "\n",
    "#========== Getting avg price and storing to csv file ==========#\n",
    "\n",
    "    #Extract price and date and append to arrays\n",
    "    price_arr = []\n",
    "    date_arr = []\n",
    "\n",
    "    #Extract price and date from Tableinfo.txt file\n",
    "    with open(\"TableTempinfo.txt\",\"r\") as f:\n",
    "        lines =f.readlines()\n",
    "        \n",
    "        for line in lines:\n",
    "            \n",
    "            if \"$\" in line:\n",
    "                LineList = line.split(\"$\")\n",
    "\n",
    "                #Get price and store it into an array of integers\n",
    "                price = int(LineList[1].replace(',','').strip())\n",
    "                price_arr.append(price)\n",
    "\n",
    "                #Split first half of line to get the date and the size\n",
    "                date_and_size = LineList[0]\n",
    "                date_size_split_list = date_and_size.split(\"EST\")\n",
    "\n",
    "                #Format date into timestamp and append to array\n",
    "                date_string = date_size_split_list[0]\n",
    "                formatted_date = extract_date(date_string)\n",
    "                date_arr.append(formatted_date)\n",
    "\n",
    "    #Finding average for sales in previous month\n",
    "    avg_price = get_avg_new_price(date_arr, price_arr)\n",
    "\n",
    "    #Append average price to csv file\n",
    "    with open('AveragePriceData.csv', 'a') as csvfile:\n",
    "        writer = csv.writer(csvfile, lineterminator = '\\r')\n",
    "        writer.writerow([avg_price])\n",
    "\n",
    "    #Get product name and display message of the sneaker name and the average price\n",
    "    product_name = driver.find_element_by_xpath(\"//h1[@data-testid='product-name']\").text\n",
    "    print(\"Average price for \" + str(product_name) + \" is $\" + str(avg_price))\n",
    "\n",
    "    #Clear arrays and reset all counters, ready for the next pair\n",
    "    price_arr.clear()\n",
    "    date_arr.clear()\n",
    "\n",
    "#========== Getting numpy array for sneaker name ==========#\n",
    "\n",
    "    SneakerName = driver.find_element_by_xpath(\"//h1[@data-testid='product-name']\").text\n",
    "\n",
    "    SpecialNameResultArr = splitSpecial(SneakerName)\n",
    "\n",
    "    #Return to initial page and refresh\n",
    "    driver.back()\n",
    "    driver.refresh()"
   ]
  }
 ]
}