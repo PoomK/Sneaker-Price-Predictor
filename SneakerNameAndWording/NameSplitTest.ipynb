{
 "metadata": {
  "language_info": {
   "codemirror_mode": {
    "name": "ipython",
    "version": 3
   },
   "file_extension": ".py",
   "mimetype": "text/x-python",
   "name": "python",
   "nbconvert_exporter": "python",
   "pygments_lexer": "ipython3",
   "version": "3.8.5-final"
  },
  "orig_nbformat": 2,
  "kernelspec": {
   "name": "python3",
   "display_name": "Python 3",
   "language": "python"
  }
 },
 "nbformat": 4,
 "nbformat_minor": 2,
 "cells": [
  {
   "cell_type": "code",
   "execution_count": 59,
   "metadata": {},
   "outputs": [],
   "source": [
    "specialNames = [\"Yeezy Boost 350 V2\", \"Jordan 1 Retro\"]\n",
    "sneakerName = \"adidas Original Yeezy Boost 350 V2 Black Red (2017/2020\""
   ]
  },
  {
   "cell_type": "code",
   "execution_count": 60,
   "metadata": {},
   "outputs": [],
   "source": [
    "def strip(s):\n",
    "    return s.strip()\n",
    "\n",
    "def splitSpecial(sneakerName):\n",
    "    #iterate through specialNames\n",
    "    for s in specialNames:\n",
    "        #check if special name is in sneaker name\n",
    "        if s in sneakerName:\n",
    "            nameArray = sneakerName.split(s)\n",
    "            nameArray.insert(1, s)\n",
    "            nameArray = list(map(strip, nameArray))\n",
    "\n",
    "            #Check for space in 1st element and split if there is space\n",
    "            if \"\" in nameArray[0]:\n",
    "                element1 = nameArray[0]\n",
    "                del nameArray[0]\n",
    "                newArr1 = element1.split()\n",
    "                for i in range(len(newArr1)):\n",
    "                    position1 = i\n",
    "                    value1 = newArr1[i]\n",
    "                    nameArray.insert(position1,value1)\n",
    "\n",
    "            #Check for space in 3rd element and split if there is space\n",
    "            if \"\" in nameArray[2]:\n",
    "                element2 = nameArray[2]\n",
    "                del nameArray[2]\n",
    "                newArr2 = element2.split()\n",
    "                for i in range(len(newArr2)):\n",
    "                    position2 = 2+i\n",
    "                    value2 = newArr2[i]\n",
    "                    nameArray.insert(position2,value2)\n",
    "\n",
    "            return nameArray\n",
    "    return sneakerName"
   ]
  },
  {
   "cell_type": "code",
   "execution_count": 61,
   "metadata": {},
   "outputs": [
    {
     "output_type": "stream",
     "name": "stdout",
     "text": [
      "['adidas', 'Original', 'Yeezy', 'Boost', '350', 'V2', 'Black Red (2017/2020']\n"
     ]
    }
   ],
   "source": [
    "a = splitSpecial(sneakerName)\n",
    "print(a)"
   ]
  },
  {
   "cell_type": "code",
   "execution_count": 42,
   "metadata": {},
   "outputs": [
    {
     "output_type": "stream",
     "name": "stdout",
     "text": [
      "['Black', 'Red', '(2017/2020)']\n['adidas', 'Yeezy Boost 350 V2', 'Black']\n['adidas', 'Yeezy Boost 350 V2', 'Black', 'Red']\n['adidas', 'Yeezy Boost 350 V2', 'Black', 'Red', '(2017/2020)']\n"
     ]
    }
   ],
   "source": [
    "nameArray = [\"adidas\", \"Yeezy Boost 350 V2\", \"Black Red (2017/2020)\"]\n",
    "if \"\" in nameArray[2]:\n",
    "    element = nameArray[2]\n",
    "    del nameArray[2]\n",
    "    newArr = element.split()\n",
    "    print(newArr)\n",
    "    for i in range(len(newArr)):\n",
    "        position = 2+i\n",
    "        value = newArr[i]\n",
    "        nameArray.insert(position,value)\n",
    "        print(nameArray)\n"
   ]
  }
 ]
}