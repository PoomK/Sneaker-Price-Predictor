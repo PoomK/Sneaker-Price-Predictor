{
 "metadata": {
  "language_info": {
   "codemirror_mode": {
    "name": "ipython",
    "version": 3
   },
   "file_extension": ".py",
   "mimetype": "text/x-python",
   "name": "python",
   "nbconvert_exporter": "python",
   "pygments_lexer": "ipython3",
   "version": 3
  },
  "orig_nbformat": 2
 },
 "nbformat": 4,
 "nbformat_minor": 2,
 "cells": [
  {
   "cell_type": "code",
   "execution_count": null,
   "metadata": {},
   "outputs": [],
   "source": [
    "from datetime import datetime\n",
    "\n",
    "def get_price():\n",
    "    with open(\"Tableinfo.txt\",\"r\") as f:\n",
    "        lines =f.readlines()\n",
    "        for line in lines:\n",
    "            if \"$\" in line:\n",
    "                LineList = line.split(\"$\")\n",
    "                price = LineList[1].strip()\n",
    "\n",
    "def extract_date(dateString):\n",
    "    #Remove \"Sunday,\"\n",
    "    dateString = \",\".join(dateString.split(\",\")[1:]).strip()\n",
    "    datetimeObj = datetime.strptime(dateString, \"%B %d, %Y %I:%M %p\")\n",
    "    return datetimeObj"
   ]
  }
 ]
}